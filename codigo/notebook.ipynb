{
 "cells": [
  {
   "cell_type": "code",
   "execution_count": 14,
   "id": "a4a6f3e2",
   "metadata": {},
   "outputs": [],
   "source": [
    "import pandas as pd\n",
    "from math import sqrt\n",
    "from collections import Counter"
   ]
  },
  {
   "cell_type": "code",
   "execution_count": null,
   "id": "e2a1a968",
   "metadata": {},
   "outputs": [],
   "source": [
    "def gerar_dados():\n",
    "\n",
    "    dados = {\n",
    "        'Xi': [],\n",
    "        'Fi': [],\n",
    "        'Fac': [],\n",
    "        '(Xi - Media)^2 Fi': [],\n",
    "        'N': [],\n",
    "    }\n",
    "    \n",
    "    return dados"
   ]
  },
  {
   "cell_type": "code",
   "execution_count": null,
   "id": "3ccd60ba",
   "metadata": {},
   "outputs": [],
   "source": [
    "def varianca(media: float, dados: dict):  \n",
    "    for i in range(len(dados['Xi'])):\n",
    "        xi = dados['Xi'][i]\n",
    "        fi = dados['Fi'][i]\n",
    "        var = ((xi - media) ** 2) * fi\n",
    "        dados['(Xi - Media)^2 Fi'].append(var)"
   ]
  },
  {
   "cell_type": "code",
   "execution_count": null,
   "id": "13921cf1",
   "metadata": {},
   "outputs": [],
   "source": [
    "def desvio_padrao(varianca: float):\n",
    "    return sqrt(varianca)"
   ]
  },
  {
   "cell_type": "code",
   "execution_count": null,
   "id": "22e466dd",
   "metadata": {},
   "outputs": [],
   "source": [
    "def coef_variacao(desvio_padrao: float, media: float):\n",
    "    coef = (desvio_padrao / media) * 100\n",
    "    return  coef"
   ]
  },
  {
   "cell_type": "code",
   "execution_count": 36,
   "id": "6b66dee2",
   "metadata": {},
   "outputs": [
    {
     "name": "stdout",
     "output_type": "stream",
     "text": [
      "Trimodal\n",
      "Elementos Xi com Fi máximo:\n",
      "20\n",
      "25\n",
      "30\n"
     ]
    }
   ],
   "source": [
    "dados = {\n",
    "    'Xi': [5, 10, 15, 20, 25, 30, 35],\n",
    "    'Fi': [2, 4, 6, 7, 7, 7, 1],\n",
    "    'Fac': [2, 6, 12, 15, 20, 27, 28],\n",
    "    '(Xi - Media)^2 Fi': [10, 20, 30, 40, 50, 60, 70]\n",
    "}\n",
    "\n",
    "fi_max = max(dados['Fi'])\n",
    "count_fi_max = dados['Fi'].count(fi_max)\n",
    "\n",
    "if count_fi_max == 1:\n",
    "    print('Unimodal')\n",
    "elif count_fi_max == 2:\n",
    "    print('Bimodal')\n",
    "elif count_fi_max == 3:\n",
    "    print('Trimodal')\n",
    "elif count_fi_max > 3:\n",
    "    print('Multimodal')\n",
    "\n",
    "print('Elementos Xi com Fi máximo:')\n",
    "\n",
    "for i in range(len(dados['Fi'])):\n",
    "    if dados['Fi'][i] == fi_max:\n",
    "        print(dados['Xi'][i])\n"
   ]
  },
  {
   "cell_type": "code",
   "execution_count": null,
   "id": "684ee431",
   "metadata": {},
   "outputs": [
    {
     "data": {
      "text/html": [
       "<div>\n",
       "<style scoped>\n",
       "    .dataframe tbody tr th:only-of-type {\n",
       "        vertical-align: middle;\n",
       "    }\n",
       "\n",
       "    .dataframe tbody tr th {\n",
       "        vertical-align: top;\n",
       "    }\n",
       "\n",
       "    .dataframe thead th {\n",
       "        text-align: right;\n",
       "    }\n",
       "</style>\n",
       "<table border=\"1\" class=\"dataframe\">\n",
       "  <thead>\n",
       "    <tr style=\"text-align: right;\">\n",
       "      <th></th>\n",
       "      <th>Xi</th>\n",
       "      <th>Fi</th>\n",
       "      <th>Fac</th>\n",
       "      <th>(Xi - Media)^2 Fi</th>\n",
       "    </tr>\n",
       "  </thead>\n",
       "  <tbody>\n",
       "    <tr>\n",
       "      <th>0</th>\n",
       "      <td>4</td>\n",
       "      <td>2</td>\n",
       "      <td>2</td>\n",
       "      <td>72</td>\n",
       "    </tr>\n",
       "    <tr>\n",
       "      <th>1</th>\n",
       "      <td>5</td>\n",
       "      <td>1</td>\n",
       "      <td>3</td>\n",
       "      <td>25</td>\n",
       "    </tr>\n",
       "    <tr>\n",
       "      <th>2</th>\n",
       "      <td>7</td>\n",
       "      <td>6</td>\n",
       "      <td>9</td>\n",
       "      <td>54</td>\n",
       "    </tr>\n",
       "  </tbody>\n",
       "</table>\n",
       "</div>"
      ],
      "text/plain": [
       "   Xi  Fi  Fac  (Xi - Media)^2 Fi\n",
       "0   4   2    2                 72\n",
       "1   5   1    3                 25\n",
       "2   7   6    9                 54"
      ]
     },
     "metadata": {},
     "output_type": "display_data"
    },
    {
     "data": {
      "text/html": [
       "<div>\n",
       "<style scoped>\n",
       "    .dataframe tbody tr th:only-of-type {\n",
       "        vertical-align: middle;\n",
       "    }\n",
       "\n",
       "    .dataframe tbody tr th {\n",
       "        vertical-align: top;\n",
       "    }\n",
       "\n",
       "    .dataframe thead th {\n",
       "        text-align: right;\n",
       "    }\n",
       "</style>\n",
       "<table border=\"1\" class=\"dataframe\">\n",
       "  <thead>\n",
       "    <tr style=\"text-align: right;\">\n",
       "      <th></th>\n",
       "      <th>Xi</th>\n",
       "      <th>Fi</th>\n",
       "      <th>Fac</th>\n",
       "      <th>(Xi - Media)^2 Fi</th>\n",
       "    </tr>\n",
       "  </thead>\n",
       "  <tbody>\n",
       "    <tr>\n",
       "      <th>0</th>\n",
       "      <td>2</td>\n",
       "      <td>6</td>\n",
       "      <td>6</td>\n",
       "      <td>384</td>\n",
       "    </tr>\n",
       "    <tr>\n",
       "      <th>1</th>\n",
       "      <td>3</td>\n",
       "      <td>9</td>\n",
       "      <td>15</td>\n",
       "      <td>441</td>\n",
       "    </tr>\n",
       "    <tr>\n",
       "      <th>2</th>\n",
       "      <td>5</td>\n",
       "      <td>2</td>\n",
       "      <td>17</td>\n",
       "      <td>50</td>\n",
       "    </tr>\n",
       "  </tbody>\n",
       "</table>\n",
       "</div>"
      ],
      "text/plain": [
       "   Xi  Fi  Fac  (Xi - Media)^2 Fi\n",
       "0   2   6    6                384\n",
       "1   3   9   15                441\n",
       "2   5   2   17                 50"
      ]
     },
     "metadata": {},
     "output_type": "display_data"
    },
    {
     "ename": "KeyboardInterrupt",
     "evalue": "Interrupted by user",
     "output_type": "error",
     "traceback": [
      "\u001b[1;31m---------------------------------------------------------------------------\u001b[0m",
      "\u001b[1;31mKeyboardInterrupt\u001b[0m                         Traceback (most recent call last)",
      "Cell \u001b[1;32mIn[11], line 6\u001b[0m\n\u001b[0;32m      3\u001b[0m dados \u001b[38;5;241m=\u001b[39m gerar_dados()\n\u001b[0;32m      5\u001b[0m \u001b[38;5;28;01mtry\u001b[39;00m:\n\u001b[1;32m----> 6\u001b[0m     opc \u001b[38;5;241m=\u001b[39m \u001b[38;5;28mint\u001b[39m(\u001b[38;5;28minput\u001b[39m(\n\u001b[0;32m      7\u001b[0m         \u001b[38;5;124m'\u001b[39m\u001b[38;5;124mDigite o número da opção escolhida: \u001b[39m\u001b[38;5;130;01m\\n\u001b[39;00m\u001b[38;5;124m'\u001b[39m\n\u001b[0;32m      8\u001b[0m         \u001b[38;5;124m'\u001b[39m\u001b[38;5;124m[1] - Criar tabela de amostras \u001b[39m\u001b[38;5;130;01m\\n\u001b[39;00m\u001b[38;5;124m'\u001b[39m\n\u001b[0;32m      9\u001b[0m         \u001b[38;5;124m'\u001b[39m\u001b[38;5;124m[2] - Finalizar programa \u001b[39m\u001b[38;5;130;01m\\n\u001b[39;00m\u001b[38;5;124m'\u001b[39m\n\u001b[0;32m     10\u001b[0m     ))\n\u001b[0;32m     11\u001b[0m \u001b[38;5;28;01mexcept\u001b[39;00m \u001b[38;5;167;01mValueError\u001b[39;00m:\n\u001b[0;32m     12\u001b[0m     \u001b[38;5;28mprint\u001b[39m(\u001b[38;5;124m'\u001b[39m\u001b[38;5;124mPor favor, insira um número válido.\u001b[39m\u001b[38;5;124m'\u001b[39m)\n",
      "File \u001b[1;32mc:\\Users\\mathb\\anaconda3\\Lib\\site-packages\\ipykernel\\kernelbase.py:1262\u001b[0m, in \u001b[0;36mKernel.raw_input\u001b[1;34m(self, prompt)\u001b[0m\n\u001b[0;32m   1260\u001b[0m     msg \u001b[38;5;241m=\u001b[39m \u001b[38;5;124m\"\u001b[39m\u001b[38;5;124mraw_input was called, but this frontend does not support input requests.\u001b[39m\u001b[38;5;124m\"\u001b[39m\n\u001b[0;32m   1261\u001b[0m     \u001b[38;5;28;01mraise\u001b[39;00m StdinNotImplementedError(msg)\n\u001b[1;32m-> 1262\u001b[0m \u001b[38;5;28;01mreturn\u001b[39;00m \u001b[38;5;28mself\u001b[39m\u001b[38;5;241m.\u001b[39m_input_request(\n\u001b[0;32m   1263\u001b[0m     \u001b[38;5;28mstr\u001b[39m(prompt),\n\u001b[0;32m   1264\u001b[0m     \u001b[38;5;28mself\u001b[39m\u001b[38;5;241m.\u001b[39m_parent_ident[\u001b[38;5;124m\"\u001b[39m\u001b[38;5;124mshell\u001b[39m\u001b[38;5;124m\"\u001b[39m],\n\u001b[0;32m   1265\u001b[0m     \u001b[38;5;28mself\u001b[39m\u001b[38;5;241m.\u001b[39mget_parent(\u001b[38;5;124m\"\u001b[39m\u001b[38;5;124mshell\u001b[39m\u001b[38;5;124m\"\u001b[39m),\n\u001b[0;32m   1266\u001b[0m     password\u001b[38;5;241m=\u001b[39m\u001b[38;5;28;01mFalse\u001b[39;00m,\n\u001b[0;32m   1267\u001b[0m )\n",
      "File \u001b[1;32mc:\\Users\\mathb\\anaconda3\\Lib\\site-packages\\ipykernel\\kernelbase.py:1305\u001b[0m, in \u001b[0;36mKernel._input_request\u001b[1;34m(self, prompt, ident, parent, password)\u001b[0m\n\u001b[0;32m   1302\u001b[0m \u001b[38;5;28;01mexcept\u001b[39;00m \u001b[38;5;167;01mKeyboardInterrupt\u001b[39;00m:\n\u001b[0;32m   1303\u001b[0m     \u001b[38;5;66;03m# re-raise KeyboardInterrupt, to truncate traceback\u001b[39;00m\n\u001b[0;32m   1304\u001b[0m     msg \u001b[38;5;241m=\u001b[39m \u001b[38;5;124m\"\u001b[39m\u001b[38;5;124mInterrupted by user\u001b[39m\u001b[38;5;124m\"\u001b[39m\n\u001b[1;32m-> 1305\u001b[0m     \u001b[38;5;28;01mraise\u001b[39;00m \u001b[38;5;167;01mKeyboardInterrupt\u001b[39;00m(msg) \u001b[38;5;28;01mfrom\u001b[39;00m \u001b[38;5;28;01mNone\u001b[39;00m\n\u001b[0;32m   1306\u001b[0m \u001b[38;5;28;01mexcept\u001b[39;00m \u001b[38;5;167;01mException\u001b[39;00m:\n\u001b[0;32m   1307\u001b[0m     \u001b[38;5;28mself\u001b[39m\u001b[38;5;241m.\u001b[39mlog\u001b[38;5;241m.\u001b[39mwarning(\u001b[38;5;124m\"\u001b[39m\u001b[38;5;124mInvalid Message:\u001b[39m\u001b[38;5;124m\"\u001b[39m, exc_info\u001b[38;5;241m=\u001b[39m\u001b[38;5;28;01mTrue\u001b[39;00m)\n",
      "\u001b[1;31mKeyboardInterrupt\u001b[0m: Interrupted by user"
     ]
    }
   ],
   "source": [
    "while True:\n",
    "\n",
    "    dados = gerar_dados()\n",
    "\n",
    "    try:\n",
    "        opc = int(input(\n",
    "            'Digite o número da opção escolhida: \\n'\n",
    "            '[1] - Criar tabela de amostras \\n'\n",
    "            '[2] - Finalizar programa \\n'\n",
    "        ))\n",
    "    except ValueError:\n",
    "        print('Por favor, insira um número válido.')\n",
    "        continue\n",
    "\n",
    "    if opc == 1:\n",
    "        while True:\n",
    "            try:\n",
    "                linhas = int(input('Quantos elementos farão parte da sua tabela de amostras? \\n'))\n",
    "                break\n",
    "            except ValueError:\n",
    "                print('Por favor, insira um número válido.')\n",
    "\n",
    "        for i in range(linhas):\n",
    "            while True:\n",
    "                try:\n",
    "                    xi = int(input(f'Digite o valor para o {i + 1}º elemento Xi: '))\n",
    "                    break\n",
    "                except ValueError:\n",
    "                    print('Por favor, insira um número válido.')\n",
    "\n",
    "            while True:\n",
    "                try:\n",
    "                    fi = int(input(f'Digite a frequência individual do {i + 1}º elemento Xi: '))\n",
    "                    break\n",
    "                except ValueError:\n",
    "                    print('Por favor, insira um número válido.')\n",
    "\n",
    "            dados['Xi'].append(xi)\n",
    "            dados['Fi'].append(fi)\n",
    "\n",
    "            if len(dados['Fac']) == 0:\n",
    "                fac = fi\n",
    "            else:\n",
    "                fac = dados['Fac'][-1] + fi\n",
    "            dados['Fac'].append(fac)\n",
    "\n",
    "        media = media(dados)\n",
    "        variancia = varianca(media=10, dados=dados)\n",
    "\n",
    "        df = pd.DataFrame(dados)\n",
    "        display(df)\n",
    "\n",
    "    elif opc == 2:\n",
    "        print('Programa finalizado.')\n",
    "        break\n",
    "    else:\n",
    "        print('Por favor, insira uma opção válida (1 ou 2).')"
   ]
  }
 ],
 "metadata": {
  "kernelspec": {
   "display_name": "base",
   "language": "python",
   "name": "python3"
  },
  "language_info": {
   "codemirror_mode": {
    "name": "ipython",
    "version": 3
   },
   "file_extension": ".py",
   "mimetype": "text/x-python",
   "name": "python",
   "nbconvert_exporter": "python",
   "pygments_lexer": "ipython3",
   "version": "3.12.7"
  }
 },
 "nbformat": 4,
 "nbformat_minor": 5
}
