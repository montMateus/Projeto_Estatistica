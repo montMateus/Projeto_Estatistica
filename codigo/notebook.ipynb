{
 "cells": [
  {
   "cell_type": "code",
   "execution_count": 33,
   "id": "a4a6f3e2",
   "metadata": {},
   "outputs": [],
   "source": [
    "import pandas as pd\n",
    "from math import sqrt\n",
    "from collections import Counter"
   ]
  },
  {
   "cell_type": "code",
   "execution_count": 34,
   "id": "e2a1a968",
   "metadata": {},
   "outputs": [],
   "source": [
    "def gerar_dados():\n",
    "\n",
    "    dados = {\n",
    "        'Xi': [],\n",
    "        'Fi': [],\n",
    "        'Fac': [],\n",
    "        'Xi X Fi': [],\n",
    "        '(Xi - x̄)^2 Fi': [],\n",
    "        #'N': [],\n",
    "    }\n",
    "    \n",
    "    return dados"
   ]
  },
  {
   "cell_type": "code",
   "execution_count": 35,
   "id": "3ccd60ba",
   "metadata": {},
   "outputs": [],
   "source": [
    "def varianca(media: float, dados: dict):  \n",
    "    for i in range(len(dados['Xi'])):\n",
    "        xi = dados['Xi'][i]\n",
    "        fi = dados['Fi'][i]\n",
    "        var = round((((xi - media) ** 2) * fi), 2)\n",
    "        dados['(Xi - x̄)^2 Fi'].append(var)"
   ]
  },
  {
   "cell_type": "code",
   "execution_count": 36,
   "id": "13921cf1",
   "metadata": {},
   "outputs": [],
   "source": [
    "def desvio_padrao(varianca: float):\n",
    "    return round(sqrt(varianca), 2)"
   ]
  },
  {
   "cell_type": "code",
   "execution_count": 37,
   "id": "22e466dd",
   "metadata": {},
   "outputs": [],
   "source": [
    "def coef_variacao(desvio_padrao: float, media: float):\n",
    "    coef = round((desvio_padrao / media), 2) * 100\n",
    "    return  coef"
   ]
  },
  {
   "cell_type": "code",
   "execution_count": null,
   "id": "6b66dee2",
   "metadata": {},
   "outputs": [],
   "source": [
    "def moda(dados:dict):\n",
    "\n",
    "    xi_moda = []\n",
    "    tipo_moda = ''\n",
    "\n",
    "    fi_max = max(dados['Fi'])\n",
    "    count_fi_max = dados['Fi'].count(fi_max)\n",
    "\n",
    "    if count_fi_max == len(dados['Xi']):\n",
    "        tipo_moda = 'Amodal'\n",
    "    elif count_fi_max == 1:\n",
    "        tipo_moda = 'Unimodal'\n",
    "    elif count_fi_max == 2:\n",
    "        tipo_moda = 'Bimodal'\n",
    "    elif count_fi_max == 3:\n",
    "        tipo_moda = 'Trimodal'\n",
    "    elif count_fi_max > 3:\n",
    "        tipo_moda = 'Multimodal'\n",
    "\n",
    "    if tipo_moda == 'Amodal':\n",
    "        print(f'Amostra {tipo_moda}')\n",
    "    else:\n",
    "        for i in range(len(dados['Fi'])):\n",
    "            if dados['Fi'][i] == fi_max:\n",
    "                xi_moda.append(dados['Xi'][i])\n",
    "        print(f'Amostra {tipo_moda} | Elemento(s) Xi: {xi_moda} | Fi da moda: {fi_max}')\n",
    "        "
   ]
  },
  {
   "cell_type": "code",
   "execution_count": 39,
   "id": "684ee431",
   "metadata": {},
   "outputs": [
    {
     "name": "stdout",
     "output_type": "stream",
     "text": [
      "Amostra Unimodal | Elementos: [1] | Fi da moda: 10\n"
     ]
    },
    {
     "data": {
      "text/html": [
       "<div>\n",
       "<style scoped>\n",
       "    .dataframe tbody tr th:only-of-type {\n",
       "        vertical-align: middle;\n",
       "    }\n",
       "\n",
       "    .dataframe tbody tr th {\n",
       "        vertical-align: top;\n",
       "    }\n",
       "\n",
       "    .dataframe thead th {\n",
       "        text-align: right;\n",
       "    }\n",
       "</style>\n",
       "<table border=\"1\" class=\"dataframe\">\n",
       "  <thead>\n",
       "    <tr style=\"text-align: right;\">\n",
       "      <th></th>\n",
       "      <th>Xi</th>\n",
       "      <th>Fi</th>\n",
       "      <th>Fac</th>\n",
       "      <th>Xi X Fi</th>\n",
       "      <th>(Xi - x̄)^2 Fi</th>\n",
       "    </tr>\n",
       "  </thead>\n",
       "  <tbody>\n",
       "    <tr>\n",
       "      <th>0</th>\n",
       "      <td>4</td>\n",
       "      <td>5</td>\n",
       "      <td>5</td>\n",
       "      <td>20</td>\n",
       "      <td>180</td>\n",
       "    </tr>\n",
       "    <tr>\n",
       "      <th>1</th>\n",
       "      <td>2</td>\n",
       "      <td>8</td>\n",
       "      <td>13</td>\n",
       "      <td>16</td>\n",
       "      <td>512</td>\n",
       "    </tr>\n",
       "    <tr>\n",
       "      <th>2</th>\n",
       "      <td>1</td>\n",
       "      <td>10</td>\n",
       "      <td>23</td>\n",
       "      <td>10</td>\n",
       "      <td>810</td>\n",
       "    </tr>\n",
       "  </tbody>\n",
       "</table>\n",
       "</div>"
      ],
      "text/plain": [
       "   Xi  Fi  Fac  Xi X Fi  (Xi - x̄)^2 Fi\n",
       "0   4   5    5       20             180\n",
       "1   2   8   13       16             512\n",
       "2   1  10   23       10             810"
      ]
     },
     "metadata": {},
     "output_type": "display_data"
    },
    {
     "name": "stdout",
     "output_type": "stream",
     "text": [
      "Por favor, insira um número válido.\n",
      "Por favor, insira um número válido.\n",
      "Por favor, insira um número válido.\n",
      "Programa finalizado.\n"
     ]
    }
   ],
   "source": [
    "while True:\n",
    "\n",
    "    dados = gerar_dados()\n",
    "\n",
    "    try:\n",
    "        opcao = int(input(\n",
    "            'Digite o número da opção escolhida: \\n'\n",
    "            '[1] - Criar tabela de amostras \\n'\n",
    "            '[2] - Finalizar programa \\n'\n",
    "        ))\n",
    "    except ValueError:\n",
    "        print('Por favor, insira um número válido.')\n",
    "        continue\n",
    "\n",
    "    if opcao == 1:\n",
    "        while True:\n",
    "            try:\n",
    "                linhas = int(input('Quantos elementos farão parte da sua tabela de amostras? \\n'))\n",
    "                break\n",
    "            except ValueError:\n",
    "                print('Por favor, insira um número válido.')\n",
    "\n",
    "        for i in range(linhas):\n",
    "            while True:\n",
    "                try:\n",
    "                    xi = int(input(f'Digite o valor para o {i + 1}º elemento Xi: '))\n",
    "                    break\n",
    "                except ValueError:\n",
    "                    print('Por favor, insira um número válido.')\n",
    "\n",
    "            while True:\n",
    "                try:\n",
    "                    fi = int(input(f'Digite a frequência individual do {i + 1}º elemento Xi: '))\n",
    "                    break\n",
    "                except ValueError:\n",
    "                    print('Por favor, insira um número válido.')\n",
    "\n",
    "            dados['Xi'].append(xi)\n",
    "            dados['Fi'].append(fi)\n",
    "            xi_x_fi = round((xi * fi), 2)\n",
    "            dados['Xi X Fi'].append(xi_x_fi)\n",
    "\n",
    "            if len(dados['Fac']) == 0:\n",
    "                fac = fi\n",
    "            else:\n",
    "                fac = dados['Fac'][-1] + fi\n",
    "            dados['Fac'].append(fac)\n",
    "\n",
    "        #media = media(dados)\n",
    "        variancia = varianca(media=10, dados=dados)\n",
    "        moda(dados)\n",
    "\n",
    "        df = pd.DataFrame(dados)\n",
    "\n",
    "        display(df)\n",
    "\n",
    "    elif opcao == 2:\n",
    "        print('Programa finalizado.')\n",
    "        break\n",
    "    else:\n",
    "        print('Por favor, insira uma opção válida (1 ou 2).')"
   ]
  }
 ],
 "metadata": {
  "kernelspec": {
   "display_name": "Python 3",
   "language": "python",
   "name": "python3"
  },
  "language_info": {
   "codemirror_mode": {
    "name": "ipython",
    "version": 3
   },
   "file_extension": ".py",
   "mimetype": "text/x-python",
   "name": "python",
   "nbconvert_exporter": "python",
   "pygments_lexer": "ipython3",
   "version": "3.13.0"
  }
 },
 "nbformat": 4,
 "nbformat_minor": 5
}
